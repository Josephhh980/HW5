{
 "cells": [
  {
   "cell_type": "code",
   "execution_count": null,
   "id": "c82e1d6e",
   "metadata": {},
   "outputs": [],
   "source": []
  },
  {
   "cell_type": "code",
   "execution_count": 1,
   "id": "825208b1",
   "metadata": {},
   "outputs": [
    {
     "ename": "SyntaxError",
     "evalue": "invalid syntax (3085109500.py, line 1)",
     "output_type": "error",
     "traceback": [
      "\u001b[0;36m  Cell \u001b[0;32mIn[1], line 1\u001b[0;36m\u001b[0m\n\u001b[0;31m    The key factor that decide whether something can be tested is whether it can be statistically measured and\u001b[0m\n\u001b[0m        ^\u001b[0m\n\u001b[0;31mSyntaxError\u001b[0m\u001b[0;31m:\u001b[0m invalid syntax\n"
     ]
    }
   ],
   "source": [
    "The key factor that decide whether something can be tested is whether it can be statistically measured and \n",
    "quantified, and can made proper predictions based on the idea."
   ]
  },
  {
   "cell_type": "code",
   "execution_count": 2,
   "id": "c648c16c",
   "metadata": {},
   "outputs": [
    {
     "ename": "SyntaxError",
     "evalue": "invalid syntax (3957975467.py, line 1)",
     "output_type": "error",
     "traceback": [
      "\u001b[0;36m  Cell \u001b[0;32mIn[2], line 1\u001b[0;36m\u001b[0m\n\u001b[0;31m    A good null hypothesis should be clear, specific, and refutable. It should state a default assumption or a\u001b[0m\n\u001b[0m      ^\u001b[0m\n\u001b[0;31mSyntaxError\u001b[0m\u001b[0;31m:\u001b[0m invalid syntax\n"
     ]
    }
   ],
   "source": [
    " A good null hypothesis should be clear, specific, and refutable. It should state a default assumption or a \n",
    "\"no effect\" scenario.The hypothesis must be structured in a way that allows it to be tested and potentially\n",
    "disproven with data."
   ]
  },
  {
   "cell_type": "code",
   "execution_count": 3,
   "id": "bbcdd4a9",
   "metadata": {},
   "outputs": [
    {
     "ename": "SyntaxError",
     "evalue": "invalid syntax (2388255685.py, line 1)",
     "output_type": "error",
     "traceback": [
      "\u001b[0;36m  Cell \u001b[0;32mIn[3], line 1\u001b[0;36m\u001b[0m\n\u001b[0;31m    The null hypothesis represents the default assumption or baseline condition, asserting that there is no effect or\u001b[0m\n\u001b[0m        ^\u001b[0m\n\u001b[0;31mSyntaxError\u001b[0m\u001b[0;31m:\u001b[0m invalid syntax\n"
     ]
    }
   ],
   "source": [
    "The null hypothesis represents the default assumption or baseline condition, asserting that there is no effect or \n",
    "no difference. The alternative hypothesis challenges this, proposing that there is an effect or a difference. In \n",
    "hypothesis testing, we use data to decide whether to reject the null hypothesis in favor of the alternative \n",
    "hypothesis, or to fail to reject the null hypothesis if the evidence is insufficient."
   ]
  },
  {
   "cell_type": "code",
   "execution_count": 4,
   "id": "ea0ca494",
   "metadata": {},
   "outputs": [
    {
     "ename": "SyntaxError",
     "evalue": "invalid syntax (2638527553.py, line 1)",
     "output_type": "error",
     "traceback": [
      "\u001b[0;36m  Cell \u001b[0;32mIn[4], line 1\u001b[0;36m\u001b[0m\n\u001b[0;31m    The sentence means that when we perform a hypothesis test, we are trying to make a statement about the entire population, not just the sample we have collected.\u001b[0m\n\u001b[0m        ^\u001b[0m\n\u001b[0;31mSyntaxError\u001b[0m\u001b[0;31m:\u001b[0m invalid syntax\n"
     ]
    }
   ],
   "source": [
    "The sentence means that when we perform a hypothesis test, we are trying to make a statement about the entire population, not just the sample we have collected."
   ]
  },
  {
   "cell_type": "code",
   "execution_count": 5,
   "id": "609dc8e7",
   "metadata": {},
   "outputs": [
    {
     "ename": "SyntaxError",
     "evalue": "unterminated string literal (detected at line 2) (2573182865.py, line 2)",
     "output_type": "error",
     "traceback": [
      "\u001b[0;36m  Cell \u001b[0;32mIn[5], line 2\u001b[0;36m\u001b[0m\n\u001b[0;31m    x-bar: This is the sample mean, which is the average of all the xᵢ's in our sample. It tells us the typical value in our small group.\u001b[0m\n\u001b[0m                                                                      ^\u001b[0m\n\u001b[0;31mSyntaxError\u001b[0m\u001b[0;31m:\u001b[0m unterminated string literal (detected at line 2)\n"
     ]
    }
   ],
   "source": [
    "xi's: These are individual data points in a sample. For example, if we surveyed five people about their height, each person's height would be an xᵢ.\n",
    "x-bar: This is the sample mean, which is the average of all the xᵢ's in our sample. It tells us the typical value in our small group.\n",
    "μ: This is the population mean, which is the true average of the entire population we are interested in (not just our sample). It's what we are ultimately trying to learn about.\n",
    "μ0: This is the hypothesized population mean in the null hypothesis. It’s a specific value we assume is true unless the data suggests otherwise.\n"
   ]
  },
  {
   "cell_type": "code",
   "execution_count": 6,
   "id": "e813b481",
   "metadata": {},
   "outputs": [
    {
     "ename": "SyntaxError",
     "evalue": "invalid character '—' (U+2014) (2620108246.py, line 3)",
     "output_type": "error",
     "traceback": [
      "\u001b[0;36m  Cell \u001b[0;32mIn[6], line 3\u001b[0;36m\u001b[0m\n\u001b[0;31m    our sample results to a sampling distribution—a distribution that shows all possible values of the test statistic\u001b[0m\n\u001b[0m                                                 ^\u001b[0m\n\u001b[0;31mSyntaxError\u001b[0m\u001b[0;31m:\u001b[0m invalid character '—' (U+2014)\n"
     ]
    }
   ],
   "source": [
    "When calculating a p-value, we \"imagine a world where the null hypothesis is true\" because we want to assess how \n",
    "unusual or extreme our sample data would be if the null hypothesis were correct. This process involves comparing \n",
    "our sample results to a sampling distribution—a distribution that shows all possible values of the test statistic \n",
    "we could get if we repeatedly sampled from the population where the null hypothesis holds."
   ]
  },
  {
   "cell_type": "code",
   "execution_count": 7,
   "id": "2ab89fe2",
   "metadata": {},
   "outputs": [
    {
     "ename": "SyntaxError",
     "evalue": "invalid syntax (4209076483.py, line 1)",
     "output_type": "error",
     "traceback": [
      "\u001b[0;36m  Cell \u001b[0;32mIn[7], line 1\u001b[0;36m\u001b[0m\n\u001b[0;31m    A smaller p-value makes the null hypothesis look more ridiculous because it tells us that the result we observed\u001b[0m\n\u001b[0m      ^\u001b[0m\n\u001b[0;31mSyntaxError\u001b[0m\u001b[0;31m:\u001b[0m invalid syntax\n"
     ]
    }
   ],
   "source": [
    "A smaller p-value makes the null hypothesis look more ridiculous because it tells us that the result we observed \n",
    "in our sample is highly unlikely to have occurred if the null hypothesis were true."
   ]
  },
  {
   "cell_type": "code",
   "execution_count": 8,
   "id": "27b2836f",
   "metadata": {},
   "outputs": [
    {
     "ename": "SyntaxError",
     "evalue": "invalid syntax (2095977307.py, line 1)",
     "output_type": "error",
     "traceback": [
      "\u001b[0;36m  Cell \u001b[0;32mIn[8], line 1\u001b[0;36m\u001b[0m\n\u001b[0;31m    the p value is ocnsidered to be 0.0005, which provides a very strong evidence against the null hypothesis\u001b[0m\n\u001b[0m        ^\u001b[0m\n\u001b[0;31mSyntaxError\u001b[0m\u001b[0;31m:\u001b[0m invalid syntax\n"
     ]
    }
   ],
   "source": [
    "the p value is ocnsidered to be 0.0005, which provides a very strong evidence against the null hypothesis"
   ]
  },
  {
   "cell_type": "code",
   "execution_count": 9,
   "id": "8b959a87",
   "metadata": {},
   "outputs": [
    {
     "ename": "SyntaxError",
     "evalue": "unterminated string literal (detected at line 6) (3137483074.py, line 6)",
     "output_type": "error",
     "traceback": [
      "\u001b[0;36m  Cell \u001b[0;32mIn[9], line 6\u001b[0;36m\u001b[0m\n\u001b[0;31m    means there's not enough evidence to reject the null hypothesis. Likewise, you cannot definitively prove that Fido\u001b[0m\n\u001b[0m               ^\u001b[0m\n\u001b[0;31mSyntaxError\u001b[0m\u001b[0;31m:\u001b[0m unterminated string literal (detected at line 6)\n"
     ]
    }
   ],
   "source": [
    "No, a smaller p-value cannot definitively prove that the null hypothesis is false. A p-value tells us the \n",
    "likelihood of observing the data (or something more extreme) if the null hypothesis is true, but it does not give \n",
    "absolute proof. It only indicates how strong the evidence is against the null hypothesis.Similarly, you cannot \n",
    "definitively prove that Fido is innocent using a p-value.A high p-value suggests that the observed data is \n",
    "consistent with the assumption that Fido is innocent (null hypothesis), but it does not prove innocence. It simply \n",
    "means there's not enough evidence to reject the null hypothesis. Likewise, you cannot definitively prove that Fido \n",
    "is guilty using a p-value. A low p-value provides strong evidence that the observed data is unlikely under the \n",
    "assumption of innocence (null hypothesis), but it does not conclusively prove guilt. It only implies that guilt is \n",
    "more likely given the data."
   ]
  },
  {
   "cell_type": "code",
   "execution_count": 1,
   "id": "09b0200a",
   "metadata": {},
   "outputs": [
    {
     "ename": "SyntaxError",
     "evalue": "unterminated string literal (detected at line 6) (843756769.py, line 6)",
     "output_type": "error",
     "traceback": [
      "\u001b[0;36m  Cell \u001b[0;32mIn[1], line 6\u001b[0;36m\u001b[0m\n\u001b[0;31m    The code modification impacts how you simulate the distribution under the null hypothesis. The null hypothesis assumes no systematic treatment effect, so by randomly flipping the signs of health score changes, you're generating random outcomes consistent with this hypothesis.\u001b[0m\n\u001b[0m                                                                                                                                                                                                                         ^\u001b[0m\n\u001b[0;31mSyntaxError\u001b[0m\u001b[0;31m:\u001b[0m unterminated string literal (detected at line 6)\n"
     ]
    }
   ],
   "source": [
    "Initial HealthScoreChange Comparison:\n",
    "In the first part of the code, you're calculating the actual changes in health scores and checking if the changes are positive (> 0 ?). This reflects the real-world situation of whether each patient's health improved after receiving the treatment (vaccine).\n",
    "Randomized HealthScoreChange:\n",
    "In the second part, you are randomizing the signs of the health score changes. This simulates a scenario where the treatment (vaccine) has no systematic effect, and changes are purely random. The random sign multiplication creates an alternative distribution of outcomes assuming the null hypothesis (H0: vaccine has no effect) is true.\n",
    "How This Changes the Interpretation of the Hypothesis Test:\n",
    "The code modification impacts how you simulate the distribution under the null hypothesis. The null hypothesis assumes no systematic treatment effect, so by randomly flipping the signs of health score changes, you're generating random outcomes consistent with this hypothesis.\n",
    "\n",
    "In a hypothesis test:\n",
    "\n",
    "The two-tailed test looks for any significant difference in either direction (whether the vaccine improves or worsens health). You check if the observed change is significantly different from zero, regardless of direction.\n",
    "The one-tailed test only checks for improvement in one direction (e.g., whether the vaccine leads to a health score improvement).\n",
    "When you randomly assign the direction of health score changes in the second part of the code, you're simulating the null hypothesis for a two-tailed test, meaning you're allowing for both positive and negative changes with equal likelihood. This is consistent with a scenario where there is no directional effect of the vaccine.\n",
    "\n",
    "Expectation of p-value: One-Tailed vs. Two-Tailed\n",
    "Two-tailed test: Since it tests for differences in both directions (positive and negative changes), the significance level is split across both tails of the distribution. Thus, it is less sensitive to detecting a significant effect in one specific direction. The p-value will be higher because it accounts for deviations on both sides of the null hypothesis.\n",
    "\n",
    "One-tailed test: It focuses on only one direction, which makes it more sensitive to detecting effects in that direction. As a result, the p-value will generally be smaller in a one-tailed test because you're only looking at one side of the distribution, effectively concentrating the entire significance threshold in one direction."
   ]
  },
  {
   "cell_type": "code",
   "execution_count": 2,
   "id": "e222d82b",
   "metadata": {},
   "outputs": [
    {
     "ename": "SyntaxError",
     "evalue": "invalid syntax (1588110798.py, line 1)",
     "output_type": "error",
     "traceback": [
      "\u001b[0;36m  Cell \u001b[0;32mIn[2], line 1\u001b[0;36m\u001b[0m\n\u001b[0;31m    Null Hypothesis and Alternative Hypothesis\u001b[0m\n\u001b[0m         ^\u001b[0m\n\u001b[0;31mSyntaxError\u001b[0m\u001b[0;31m:\u001b[0m invalid syntax\n"
     ]
    }
   ],
   "source": [
    "Null Hypothesis and Alternative Hypothesis\n",
    "Null Hypothesis (H0): The students are randomly guessing, meaning that the proportion of correct guesses is \n",
    "p=0.5 the probability of guessing correctly in a binary choice.\n",
    "\n",
    "Alternative Hypothesis (H1): The students are not randomly guessing, and the proportion of correct guesses is greater than 0.5, suggesting they may have a better-than-random ability to discern the correct pouring order.\n",
    "\n",
    "Informal Statement:\n",
    "We are testing if the students can identify whether tea or milk was poured first more accurately than if they were just guessing randomly.\n",
    "\n",
    "Quantitative Analysis\n",
    "We will perform a one-sample proportion test to compare the observed proportion of correct responses to the hypothesized value of 0.5 under the null hypothesis.\n",
    "\n",
    "Observed proportion: \n",
    "p = 49/80 = 0.6125\n",
    "Sample size (n): 80\n",
    "Hypothesized proportion (p): 0.5\n"
   ]
  },
  {
   "cell_type": "code",
   "execution_count": 4,
   "id": "411ad30d",
   "metadata": {},
   "outputs": [
    {
     "name": "stdout",
     "output_type": "stream",
     "text": [
      "Observed Proportion: 0.6125\n",
      "Z-score: 2.0124611797498115\n",
      "P-value: 0.022085672454221217\n"
     ]
    }
   ],
   "source": [
    "import numpy as np\n",
    "from scipy import stats\n",
    "\n",
    "# Data\n",
    "n = 80  # sample size\n",
    "x = 49  # number of correct identifications\n",
    "p_null = 0.5  # null hypothesis proportion\n",
    "\n",
    "# Observed proportion\n",
    "p_hat = x / n\n",
    "\n",
    "# Test statistic (z-score)\n",
    "z = (p_hat - p_null) / np.sqrt(p_null * (1 - p_null) / n)\n",
    "\n",
    "# p-value (one-tailed test)\n",
    "p_value = 1 - stats.norm.cdf(z)\n",
    "\n",
    "# Output results\n",
    "print(f\"Observed Proportion: {p_hat}\")\n",
    "print(f\"Z-score: {z}\")\n",
    "print(f\"P-value: {p_value}\")\n",
    "\n",
    "# Set random seed for reproducibility in future simulations\n",
    "np.random.seed(130)\n"
   ]
  },
  {
   "cell_type": "code",
   "execution_count": 5,
   "id": "886ade66",
   "metadata": {},
   "outputs": [
    {
     "ename": "SyntaxError",
     "evalue": "invalid syntax (1380659208.py, line 1)",
     "output_type": "error",
     "traceback": [
      "\u001b[0;36m  Cell \u001b[0;32mIn[5], line 1\u001b[0;36m\u001b[0m\n\u001b[0;31m    The p-value for the test is approximately 0.0221. This indicates that there is a 2.21% chance of observing a result as extreme as this (or more extreme) if the students were simply guessing. If we use a significance level of 0.05, we would reject the null hypothesis, suggesting that the students are not just randomly guessing.\u001b[0m\n\u001b[0m        ^\u001b[0m\n\u001b[0;31mSyntaxError\u001b[0m\u001b[0;31m:\u001b[0m invalid syntax\n"
     ]
    }
   ],
   "source": [
    "The p-value for the test is approximately 0.0221. This indicates that there is a 2.21% chance of observing a result as extreme as this (or more extreme) if the students were simply guessing. If we use a significance level of 0.05, we would reject the null hypothesis, suggesting that the students are not just randomly guessing."
   ]
  },
  {
   "cell_type": "code",
   "execution_count": null,
   "id": "96da49a1",
   "metadata": {},
   "outputs": [],
   "source": []
  }
 ],
 "metadata": {
  "kernelspec": {
   "display_name": "Python 3 (ipykernel)",
   "language": "python",
   "name": "python3"
  },
  "language_info": {
   "codemirror_mode": {
    "name": "ipython",
    "version": 3
   },
   "file_extension": ".py",
   "mimetype": "text/x-python",
   "name": "python",
   "nbconvert_exporter": "python",
   "pygments_lexer": "ipython3",
   "version": "3.11.6"
  }
 },
 "nbformat": 4,
 "nbformat_minor": 5
}
